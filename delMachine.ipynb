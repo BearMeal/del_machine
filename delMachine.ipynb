{
 "cells": [
  {
   "cell_type": "code",
   "execution_count": 1,
   "metadata": {},
   "outputs": [],
   "source": [
    "import os\n",
    "import time"
   ]
  },
  {
   "cell_type": "code",
   "execution_count": 20,
   "metadata": {},
   "outputs": [],
   "source": [
    "# 1. 지우고 싶은 폴더의 위치 지정\n",
    "\n",
    "# folder_path = 'D:/이사가기/mpytc/Chapter02/data_dir/val2014/'\n",
    "\n",
    "folder_path = 'C:/Users/uk246/Desktop/ExfilesDel/testFolder/'\n",
    "\n"
   ]
  },
  {
   "cell_type": "code",
   "execution_count": 21,
   "metadata": {},
   "outputs": [
    {
     "name": "stdout",
     "output_type": "stream",
     "text": [
      "40504 모든파일 삭제 완료\n"
     ]
    }
   ],
   "source": [
    "# 2. 파일 갯수 세면서 삭제실행\n",
    "# warnning: if you run this cell, there is no way back \n",
    "\n",
    "try:\n",
    "    cnt = 0\n",
    "    file_list = os.listdir(folder_path)\n",
    "\n",
    "    for filename in file_list:\n",
    "        file_path = os.path.join(folder_path, filename)\n",
    "\n",
    "        if os.path.isfile(file_path):\n",
    "            os.remove(file_path)\n",
    "            # print(f\"{file_path} 파일이 삭제됨\")\n",
    "\n",
    "            \n",
    "            # time.sleep(0.005)  # 렉이 발생할 경우 지연시간을 설정해볼수도있을듯\n",
    "            cnt +=1\n",
    "    print(f\"파일 {cnt}개 모두 제거완료\")\n",
    "\n",
    "\n",
    "except Exception as e:\n",
    "    print(f\"오류 발생: {e}\")"
   ]
  }
 ],
 "metadata": {
  "kernelspec": {
   "display_name": "Python 3",
   "language": "python",
   "name": "python3"
  },
  "language_info": {
   "codemirror_mode": {
    "name": "ipython",
    "version": 3
   },
   "file_extension": ".py",
   "mimetype": "text/x-python",
   "name": "python",
   "nbconvert_exporter": "python",
   "pygments_lexer": "ipython3",
   "version": "3.11.9"
  }
 },
 "nbformat": 4,
 "nbformat_minor": 2
}
